{
 "cells": [
  {
   "cell_type": "code",
   "execution_count": 1,
   "id": "eefaa922",
   "metadata": {},
   "outputs": [
    {
     "ename": "KeyError",
     "evalue": "'line'",
     "output_type": "error",
     "traceback": [
      "\u001b[0;31m---------------------------------------------------------------------------\u001b[0m",
      "\u001b[0;31mKeyError\u001b[0m                                  Traceback (most recent call last)",
      "Cell \u001b[0;32mIn[1], line 22\u001b[0m\n\u001b[1;32m     17\u001b[0m right_tactile \u001b[38;5;241m=\u001b[39m np\u001b[38;5;241m.\u001b[39mrandom\u001b[38;5;241m.\u001b[39mrand(\u001b[38;5;28msum\u001b[39m(touch_dict\u001b[38;5;241m.\u001b[39mvalues()))\u001b[38;5;241m.\u001b[39mastype(np\u001b[38;5;241m.\u001b[39mfloat32)\n\u001b[1;32m     19\u001b[0m \u001b[38;5;66;03m# ---------------------\u001b[39;00m\n\u001b[1;32m     20\u001b[0m \u001b[38;5;66;03m# (2) Overlay 실행\u001b[39;00m\n\u001b[1;32m     21\u001b[0m \u001b[38;5;66;03m# ---------------------\u001b[39;00m\n\u001b[0;32m---> 22\u001b[0m overlay_img \u001b[38;5;241m=\u001b[39m \u001b[43moverlay\u001b[49m\u001b[43m(\u001b[49m\u001b[43mcanvas\u001b[49m\u001b[38;5;241;43m.\u001b[39;49m\u001b[43mcopy\u001b[49m\u001b[43m(\u001b[49m\u001b[43m)\u001b[49m\u001b[43m,\u001b[49m\u001b[43m \u001b[49m\u001b[43mleft_tactile\u001b[49m\u001b[43m,\u001b[49m\u001b[43m \u001b[49m\u001b[43mright_tactile\u001b[49m\u001b[43m)\u001b[49m\n\u001b[1;32m     24\u001b[0m \u001b[38;5;28;01mdef\u001b[39;00m\u001b[38;5;250m \u001b[39m\u001b[38;5;21mshow_pixel_value\u001b[39m(event, x, y, flags, param):\n\u001b[1;32m     25\u001b[0m     \u001b[38;5;28;01mif\u001b[39;00m event \u001b[38;5;241m==\u001b[39m cv2\u001b[38;5;241m.\u001b[39mEVENT_MOUSEMOVE:  \u001b[38;5;66;03m# 마우스를 움직일 때마다\u001b[39;00m\n",
      "File \u001b[0;32m~/Documents/teleoperation/avp_teleoperate/hapticfeedback/visfeedback.py:159\u001b[0m, in \u001b[0;36moverlay\u001b[0;34m(img, left_tactile, right_tactile, vmax, gamma, gain, t_min, snake)\u001b[0m\n\u001b[1;32m    157\u001b[0m \u001b[38;5;66;03m# 왼손\u001b[39;00m\n\u001b[1;32m    158\u001b[0m \u001b[38;5;28;01mfor\u001b[39;00m name, box \u001b[38;5;129;01min\u001b[39;00m boxes\u001b[38;5;241m.\u001b[39mitems():\n\u001b[0;32m--> 159\u001b[0m     sl \u001b[38;5;241m=\u001b[39m \u001b[43mregion_slice\u001b[49m\u001b[43m[\u001b[49m\u001b[43mname\u001b[49m\u001b[43m]\u001b[49m\n\u001b[1;32m    160\u001b[0m     cnt \u001b[38;5;241m=\u001b[39m sl\u001b[38;5;241m.\u001b[39mstop \u001b[38;5;241m-\u001b[39m sl\u001b[38;5;241m.\u001b[39mstart\n\u001b[1;32m    161\u001b[0m     nx, ny \u001b[38;5;241m=\u001b[39m grid_for_count(cnt)\n",
      "\u001b[0;31mKeyError\u001b[0m: 'line'"
     ]
    }
   ],
   "source": [
    "import cv2\n",
    "import numpy as np\n",
    "from avp_teleoperate.hapticfeedback.visfeedback import overlay\n",
    "#손가락 tactile 센서 개수\n",
    "touch_dict = {\n",
    "    \"fingerone_tip_touch\":    9,   \"fingerone_top_touch\":    96,  \"fingerone_palm_touch\":   80,\n",
    "    \"fingertwo_tip_touch\":    9,   \"fingertwo_top_touch\":    96,  \"fingertwo_palm_touch\":   80,\n",
    "    \"fingerthree_tip_touch\":  9,   \"fingerthree_top_touch\":  96,  \"fingerthree_palm_touch\": 80,\n",
    "    \"fingerfour_tip_touch\":   9,   \"fingerfour_top_touch\":   96,  \"fingerfour_palm_touch\":  80,\n",
    "    \"fingerfive_tip_touch\":   9,   \"fingerfive_top_touch\":   96,  \"fingerfive_middle_touch\": 9,\n",
    "    \"fingerfive_palm_touch\":  96,  \"palm_touch\":            112\n",
    "}\n",
    "canvas = cv2.imread('/home/scilab/Documents/teleoperation/avp_teleoperate/teleop/utils/datanalysis/episode_0004/colors/000000_color_0.jpg')\n",
    "\n",
    "# 가짜 tactile 데이터 (0~1 랜덤)\n",
    "left_tactile  = np.random.rand(sum(touch_dict.values())).astype(np.float32)\n",
    "right_tactile = np.random.rand(sum(touch_dict.values())).astype(np.float32)\n",
    "\n",
    "# ---------------------\n",
    "# (2) Overlay 실행\n",
    "# ---------------------\n",
    "overlay_img = overlay(canvas.copy(), left_tactile, right_tactile)\n",
    "\n",
    "def show_pixel_value(event, x, y, flags, param):\n",
    "    if event == cv2.EVENT_MOUSEMOVE:  # 마우스를 움직일 때마다\n",
    "        pixel = overlay_img[y, x]  # BGR 픽셀 값\n",
    "        print(f\"({x}, {y}) 픽셀 값: {pixel}\")\n",
    "\n",
    "cv2.namedWindow(\"Tactile Overlay\")\n",
    "cv2.setMouseCallback(\"Tactile Overlay\", show_pixel_value)\n",
    "\n",
    "while True:\n",
    "    cv2.imshow(\"Tactile Overlay\", overlay_img)\n",
    "    key = cv2.waitKey(1) & 0xFF\n",
    "    if key == 27:  # ESC로 종료\n",
    "        break\n",
    "\n",
    "cv2.destroyAllWindows()\n"
   ]
  },
  {
   "cell_type": "code",
   "execution_count": null,
   "id": "b97f2a50",
   "metadata": {},
   "outputs": [],
   "source": []
  }
 ],
 "metadata": {
  "kernelspec": {
   "display_name": "jy_tv",
   "language": "python",
   "name": "python3"
  },
  "language_info": {
   "codemirror_mode": {
    "name": "ipython",
    "version": 3
   },
   "file_extension": ".py",
   "mimetype": "text/x-python",
   "name": "python",
   "nbconvert_exporter": "python",
   "pygments_lexer": "ipython3",
   "version": "3.10.18"
  }
 },
 "nbformat": 4,
 "nbformat_minor": 5
}
