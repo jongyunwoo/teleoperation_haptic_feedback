{
 "cells": [
  {
   "cell_type": "code",
   "execution_count": 10,
   "id": "4f930fa2",
   "metadata": {},
   "outputs": [
    {
     "name": "stdout",
     "output_type": "stream",
     "text": [
      "(612, 408, 3)\n",
      "(612, 408, 3)\n"
     ]
    }
   ],
   "source": [
    "import cv2\n",
    "import numpy as np\n",
    "import matplotlib.pyplot as plt\n",
    "\n",
    "l_inspirehand = cv2.imread('/home/scilab/Documents/teleoperation/avp_teleoperate/img/l_inspirehand.png')\n",
    "r_inspirehand = cv2.imread('/home/scilab/Documents/teleoperation/avp_teleoperate/img/r_inspirehand.png')\n",
    "print(l_inspirehand.shape)\n",
    "print(r_inspirehand.shape)\n",
    "DISPLAYSIZE = (100, 100)\n",
    "l_inspirehand = cv2.resize(l_inspirehand, DISPLAYSIZE)\n",
    "r_inspirehand = cv2.resize(r_inspirehand, DISPLAYSIZE)"
   ]
  },
  {
   "cell_type": "code",
   "execution_count": null,
   "id": "a965d775",
   "metadata": {},
   "outputs": [
    {
     "ename": "SyntaxError",
     "evalue": "'(' was never closed (1638501436.py, line 4)",
     "output_type": "error",
     "traceback": [
      "\u001b[0;36m  Cell \u001b[0;32mIn[12], line 4\u001b[0;36m\u001b[0m\n\u001b[0;31m    r_inspirehand = cv2.resize(cv2.imread(r_path), DIST\u001b[0m\n\u001b[0m                              ^\u001b[0m\n\u001b[0;31mSyntaxError\u001b[0m\u001b[0;31m:\u001b[0m '(' was never closed\n"
     ]
    }
   ],
   "source": [
    "def overlayhand(l_path, r_path, originimg):\n",
    "    DISPLAYSIZE = (100, 100)\n",
    "    l_inspirehand = cv2.resize(cv2.imread(l_path), DISPLAYSIZE)\n",
    "    r_inspirehand = cv2.resize(cv2.imread(r_path), DISPLAYSIZE)\n",
    "    overlayhand = \n",
    "    "
   ]
  },
  {
   "cell_type": "code",
   "execution_count": null,
   "id": "708d9c63",
   "metadata": {},
   "outputs": [],
   "source": []
  }
 ],
 "metadata": {
  "kernelspec": {
   "display_name": "jyteleop",
   "language": "python",
   "name": "python3"
  },
  "language_info": {
   "codemirror_mode": {
    "name": "ipython",
    "version": 3
   },
   "file_extension": ".py",
   "mimetype": "text/x-python",
   "name": "python",
   "nbconvert_exporter": "python",
   "pygments_lexer": "ipython3",
   "version": "3.10.18"
  }
 },
 "nbformat": 4,
 "nbformat_minor": 5
}
