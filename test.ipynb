{
 "cells": [
  {
   "cell_type": "code",
   "execution_count": 3,
   "id": "4f930fa2",
   "metadata": {},
   "outputs": [
    {
     "name": "stdout",
     "output_type": "stream",
     "text": [
      "(1536, 1024, 3)\n"
     ]
    }
   ],
   "source": [
    "import cv2\n",
    "r_img = cv2.imread('/home/scilab/Documents/teleoperation/avp_teleoperate/img/l_inspirehand.png')\n",
    "print(r_img.shape)"
   ]
  },
  {
   "cell_type": "code",
   "execution_count": null,
   "id": "a965d775",
   "metadata": {},
   "outputs": [],
   "source": []
  }
 ],
 "metadata": {
  "kernelspec": {
   "display_name": "jyteleop",
   "language": "python",
   "name": "python3"
  },
  "language_info": {
   "codemirror_mode": {
    "name": "ipython",
    "version": 3
   },
   "file_extension": ".py",
   "mimetype": "text/x-python",
   "name": "python",
   "nbconvert_exporter": "python",
   "pygments_lexer": "ipython3",
   "version": "3.10.18"
  }
 },
 "nbformat": 4,
 "nbformat_minor": 5
}
