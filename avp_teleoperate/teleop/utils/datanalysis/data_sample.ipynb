{
 "cells": [
  {
   "cell_type": "code",
   "execution_count": 1,
   "id": "d722bdb2",
   "metadata": {},
   "outputs": [],
   "source": [
    "import sys, os\n",
    "\n",
    "# 1) 현재 작업 디렉터리(CWD)를 기준으로 삼기\n",
    "cwd = os.getcwd()  \n",
    "\n",
    "# 2) 프로젝트 루트까지 올라가기 (예: 노트북이 teleop/utils/datanalysis 폴더에 있다면)\n",
    "#    폴더 깊이에 맞춰 '..' 개수를 조정하세요\n",
    "PROJECT_ROOT = os.path.abspath(os.path.join(cwd, '..', '..'))\n",
    "\n",
    "# 3) sys.path에 삽입\n",
    "if PROJECT_ROOT not in sys.path:\n",
    "    sys.path.insert(0, PROJECT_ROOT)\n",
    "\n",
    "    \n",
    "import numpy as np\n",
    "import pandas as pd\n",
    "import h5py\n",
    "import json\n",
    "from os.path import join, abspath, dirname\n",
    "from os import makedirs\n",
    "from tqdm import tqdm\n",
    "from PIL import Image\n",
    "from utils.datanalysis.tactile import split_tactile_data\n",
    "import cv2"
   ]
  },
  {
   "cell_type": "code",
   "execution_count": 2,
   "id": "3f0d4939",
   "metadata": {},
   "outputs": [],
   "source": [
    "DATA_DIR = ''\n",
    "EPISODE_DIR = f'episode_0010'\n",
    "DATA_JSON = 'data.json'"
   ]
  },
  {
   "cell_type": "code",
   "execution_count": 3,
   "id": "3a19c0a0",
   "metadata": {},
   "outputs": [],
   "source": [
    "OUTPUT_DIR = 'output'\n",
    "OUTPUT_DIR = abspath(OUTPUT_DIR)\n",
    "# Create output directory if it doesn't exist\n",
    "makedirs(OUTPUT_DIR, exist_ok=True)"
   ]
  },
  {
   "cell_type": "code",
   "execution_count": 4,
   "id": "8eedd69d",
   "metadata": {},
   "outputs": [
    {
     "data": {
      "text/plain": [
       "'/home/scilab/Documents/teleoperation/avp_teleoperate/teleop/utils/datanalysis/episode_0010/data.json'"
      ]
     },
     "execution_count": 4,
     "metadata": {},
     "output_type": "execute_result"
    }
   ],
   "source": [
    "DATA_JSON_PATH = abspath(join(DATA_DIR, EPISODE_DIR, DATA_JSON))\n",
    "DATA_JSON_PATH"
   ]
  },
  {
   "cell_type": "code",
   "execution_count": 5,
   "id": "3b78207e",
   "metadata": {},
   "outputs": [],
   "source": [
    "data = json.load(open(DATA_JSON_PATH, 'r'))\n",
    "\n",
    "info = data['info']\n",
    "data = data['data']"
   ]
  },
  {
   "cell_type": "code",
   "execution_count": 6,
   "id": "3201f904",
   "metadata": {},
   "outputs": [
    {
     "data": {
      "text/plain": [
       "['left_arm.kLeftShoulderPitch',\n",
       " 'left_arm.kLeftShoulderRoll',\n",
       " 'left_arm.kLeftShoulderYaw',\n",
       " 'left_arm.kLeftElbow',\n",
       " 'left_arm.kLeftWristRoll']"
      ]
     },
     "execution_count": 6,
     "metadata": {},
     "output_type": "execute_result"
    }
   ],
   "source": [
    "joint_names = list()\n",
    "\n",
    "for joint_set_key, joint_set_val in info['joint_names'].items():\n",
    "    for joint_name in joint_set_val:\n",
    "        joint_names.append(f'{joint_set_key}.{joint_name}')\n",
    "\n",
    "joint_names[:5]"
   ]
  },
  {
   "cell_type": "code",
   "execution_count": 7,
   "id": "6dd26fd8",
   "metadata": {},
   "outputs": [
    {
     "name": "stderr",
     "output_type": "stream",
     "text": [
      "Processing rows: 100%|██████████| 151/151 [00:00<00:00, 438.74it/s]\n"
     ]
    }
   ],
   "source": [
    "proprio_rows = list()\n",
    "action_rows = list()\n",
    "rgb_rows = list()\n",
    "tactile_rows = dict()\n",
    "\n",
    "for row in tqdm(data[:], desc='Processing rows'):\n",
    "    joint_row = dict()\n",
    "    action_row = dict()\n",
    "    \n",
    "    for joint_set_key, joint_set_val in info['joint_names'].items():\n",
    "        \n",
    "        joint_names = [f'{joint_set_key}.{joint_name}' for joint_name in joint_set_val]\n",
    "        \n",
    "        # States for the current joint set\n",
    "        states = row['states']\n",
    "        \n",
    "        for joint_set_key, joint_set_val in info['joint_names'].items():\n",
    "            \n",
    "            if (joint_set_key not in states) or (states[joint_set_key]) is None:\n",
    "                continue\n",
    "            \n",
    "            qpos_vals = states[joint_set_key]['qpos']\n",
    "            qvel_vals = [0.0] * len(joint_set_val)  # Placeholder for qvel, as it's not in the data\n",
    "  \n",
    "            \n",
    "            for joint_name, qpos_val, qvel_val in zip(joint_set_val, qpos_vals, qvel_vals):\n",
    "                joint_row[f'state.{joint_set_key}.{joint_name}.qpos'] = qpos_val\n",
    "                joint_row[f'state.{joint_set_key}.{joint_name}.qvel'] = qvel_val\n",
    "\n",
    "        # Actions for the current joint set\n",
    "        actions = row['actions']\n",
    "        \n",
    "        for joint_set_key, joint_set_val in info['joint_names'].items():\n",
    "            \n",
    "            if (joint_set_key not in states) or (states[joint_set_key]) is None:\n",
    "                continue\n",
    "            \n",
    "            qpos_vals = states[joint_set_key]['qpos']\n",
    "            qvel_vals = [0.0] * len(joint_set_val)  # Placeholder for qvel, as it's not in the data\n",
    "  \n",
    "            \n",
    "            for joint_name, qpos_val, qvel_val in zip(joint_set_val, qpos_vals, qvel_vals):\n",
    "                action_row[f'action.{joint_set_key}.{joint_name}.qpos'] = qpos_val\n",
    "                action_row[f'action.{joint_set_key}.{joint_name}.qvel'] = qvel_val\n",
    "    \n",
    "    # Tactile data for the current joint set\n",
    "    tactiles = row['tactiles']\n",
    "    for tactile_set_key, tactile_set_val in tactiles.items():\n",
    "        tactile_path = abspath(join(DATA_DIR, EPISODE_DIR, tactile_set_val))\n",
    "        tactile_npy = np.load(tactile_path)\n",
    "        tactile_row = tactile_npy.flatten()\n",
    "        tactile_dict = split_tactile_data(tactile_row)\n",
    "        \n",
    "        # add tactile_set_key prefix to each key in tactile_dict\n",
    "        tactile_dict = {f'tactile.{tactile_set_key}.{k}': v for k, v in tactile_dict.items()}\n",
    "        \n",
    "        for key, value in tactile_dict.items():\n",
    "            if key not in tactile_rows:\n",
    "                tactile_rows[key] = list()\n",
    "            tactile_rows[key].append(value)    \n",
    "    \n",
    "    camera = row['colors']['color_0']\n",
    "    rgb_path = abspath(join(DATA_DIR, EPISODE_DIR, camera))\n",
    "    \n",
    "    # load jpg and convert to numpy array\n",
    "    rgb_image = Image.open(rgb_path)\n",
    "    rgb_image = rgb_image.convert('RGB')\n",
    "    rgb_array = np.array(rgb_image)\n",
    "    rgb_rows.append(rgb_array)\n",
    "    \n",
    "    proprio_rows.append(joint_row)\n",
    "    action_rows.append(action_row)\n",
    "# save npz file with dictionary\n",
    "\n",
    "# convert to dataframe\n",
    "proprio_df = pd.DataFrame(proprio_rows)\n",
    "action_df = pd.DataFrame(action_rows)\n",
    "\n",
    "# get the primary keys to txt\n",
    "proprio_keys = proprio_df.columns.tolist()\n",
    "with open(join(OUTPUT_DIR, f'proprio.txt'), 'w') as f:\n",
    "    for key in proprio_keys:\n",
    "        f.write(f'{key}\\n')\n",
    "\n",
    "action_keys = action_df.columns.tolist()\n",
    "with open(join(OUTPUT_DIR, f'action.txt'), 'w') as f:\n",
    "    for key in action_keys:\n",
    "        f.write(f'{key}\\n')\n",
    "\n",
    "# stack the numpy array by looping through the tactile_rows\n",
    "tactile_rows = {k: np.stack(v) for k, v in tactile_rows.items()}\n",
    "\n",
    "# 영상 저장용 경로\n",
    "video_path = join(OUTPUT_DIR, f'{EPISODE_DIR}.mp4')\n",
    "\n",
    "# assume all RGB frames have same shape\n",
    "height, width, _ = rgb_rows[0].shape\n",
    "fps = 30  # or choose based on your time resolution\n",
    "\n",
    "# OpenCV VideoWriter 객체 생성\n",
    "fourcc = cv2.VideoWriter_fourcc(*'mp4v')\n",
    "video_writer = cv2.VideoWriter(video_path, fourcc, fps, (width, height))\n",
    "\n",
    "# 프레임을 순차적으로 기록\n",
    "for frame in rgb_rows:\n",
    "    bgr_frame = cv2.cvtColor(frame, cv2.COLOR_RGB2BGR)  # OpenCV는 BGR을 사용\n",
    "    video_writer.write(bgr_frame)\n",
    "\n",
    "video_writer.release()\n",
    "\n",
    "\n",
    "npz_dict = {\n",
    "    'proprio': proprio_df.to_numpy(),\n",
    "    **tactile_rows,\n",
    "    'action': action_df.to_numpy()\n",
    "}\n",
    "\n",
    "npz_path = join(OUTPUT_DIR, f'{EPISODE_DIR}.npz')\n",
    "np.savez(npz_path, **npz_dict)"
   ]
  },
  {
   "cell_type": "code",
   "execution_count": 8,
   "id": "b7fbeed8",
   "metadata": {},
   "outputs": [
    {
     "name": "stdout",
     "output_type": "stream",
     "text": [
      "['proprio', 'tactile.left_tactile.little_finger_tip', 'tactile.left_tactile.little_finger_nail', 'tactile.left_tactile.little_finger_pad', 'tactile.left_tactile.ring_finger_tip', 'tactile.left_tactile.ring_finger_nail', 'tactile.left_tactile.ring_finger_pad', 'tactile.left_tactile.middle_finger_tip', 'tactile.left_tactile.middle_finger_nail', 'tactile.left_tactile.middle_finger_pad', 'tactile.left_tactile.index_finger_tip', 'tactile.left_tactile.index_finger_nail', 'tactile.left_tactile.index_finger_pad', 'tactile.left_tactile.thumb_tip', 'tactile.left_tactile.thumb_nail', 'tactile.left_tactile.thumb_middle_section', 'tactile.left_tactile.thumb_pad', 'tactile.left_tactile.palm', 'tactile.right_tactile.little_finger_tip', 'tactile.right_tactile.little_finger_nail', 'tactile.right_tactile.little_finger_pad', 'tactile.right_tactile.ring_finger_tip', 'tactile.right_tactile.ring_finger_nail', 'tactile.right_tactile.ring_finger_pad', 'tactile.right_tactile.middle_finger_tip', 'tactile.right_tactile.middle_finger_nail', 'tactile.right_tactile.middle_finger_pad', 'tactile.right_tactile.index_finger_tip', 'tactile.right_tactile.index_finger_nail', 'tactile.right_tactile.index_finger_pad', 'tactile.right_tactile.thumb_tip', 'tactile.right_tactile.thumb_nail', 'tactile.right_tactile.thumb_middle_section', 'tactile.right_tactile.thumb_pad', 'tactile.right_tactile.palm', 'action']\n"
     ]
    }
   ],
   "source": [
    "npz_data = np.load(npz_path, allow_pickle=True)\n",
    "# Check the keys in the npz file\n",
    "print(npz_data.files)"
   ]
  },
  {
   "cell_type": "code",
   "execution_count": 9,
   "id": "f6228577",
   "metadata": {},
   "outputs": [
    {
     "name": "stdout",
     "output_type": "stream",
     "text": [
      "proprio data shape: (151, 52)\n",
      "action data shape: (151, 52)\n",
      "tactile.left_tactile.little_finger_tip shape: (151, 3, 3)\n",
      "tactile.left_tactile.little_finger_nail shape: (151, 12, 8)\n",
      "tactile.left_tactile.little_finger_pad shape: (151, 10, 8)\n",
      "tactile.left_tactile.ring_finger_tip shape: (151, 3, 3)\n",
      "tactile.left_tactile.ring_finger_nail shape: (151, 12, 8)\n",
      "tactile.left_tactile.ring_finger_pad shape: (151, 10, 8)\n",
      "tactile.left_tactile.middle_finger_tip shape: (151, 3, 3)\n",
      "tactile.left_tactile.middle_finger_nail shape: (151, 12, 8)\n",
      "tactile.left_tactile.middle_finger_pad shape: (151, 10, 8)\n",
      "tactile.left_tactile.index_finger_tip shape: (151, 3, 3)\n",
      "tactile.left_tactile.index_finger_nail shape: (151, 12, 8)\n",
      "tactile.left_tactile.index_finger_pad shape: (151, 10, 8)\n",
      "tactile.left_tactile.thumb_tip shape: (151, 3, 3)\n",
      "tactile.left_tactile.thumb_nail shape: (151, 12, 8)\n",
      "tactile.left_tactile.thumb_middle_section shape: (151, 3, 3)\n",
      "tactile.left_tactile.thumb_pad shape: (151, 12, 8)\n",
      "tactile.left_tactile.palm shape: (151, 8, 14)\n",
      "tactile.right_tactile.little_finger_tip shape: (151, 3, 3)\n",
      "tactile.right_tactile.little_finger_nail shape: (151, 12, 8)\n",
      "tactile.right_tactile.little_finger_pad shape: (151, 10, 8)\n",
      "tactile.right_tactile.ring_finger_tip shape: (151, 3, 3)\n",
      "tactile.right_tactile.ring_finger_nail shape: (151, 12, 8)\n",
      "tactile.right_tactile.ring_finger_pad shape: (151, 10, 8)\n",
      "tactile.right_tactile.middle_finger_tip shape: (151, 3, 3)\n",
      "tactile.right_tactile.middle_finger_nail shape: (151, 12, 8)\n",
      "tactile.right_tactile.middle_finger_pad shape: (151, 10, 8)\n",
      "tactile.right_tactile.index_finger_tip shape: (151, 3, 3)\n",
      "tactile.right_tactile.index_finger_nail shape: (151, 12, 8)\n",
      "tactile.right_tactile.index_finger_pad shape: (151, 10, 8)\n",
      "tactile.right_tactile.thumb_tip shape: (151, 3, 3)\n",
      "tactile.right_tactile.thumb_nail shape: (151, 12, 8)\n",
      "tactile.right_tactile.thumb_middle_section shape: (151, 3, 3)\n",
      "tactile.right_tactile.thumb_pad shape: (151, 12, 8)\n",
      "tactile.right_tactile.palm shape: (151, 8, 14)\n"
     ]
    }
   ],
   "source": [
    "# Check the shape of the proprio data\n",
    "proprio_data = npz_data['proprio']\n",
    "action_data = npz_data['action']\n",
    "print(f'proprio data shape: {proprio_data.shape}')\n",
    "print(f'action data shape: {action_data.shape}')\n",
    "# get the tactile data starts with 'tactile.'\n",
    "tactile_keys = [key for key in npz_data.files if key.startswith('tactile.')]\n",
    "# Print the tactile data shapes\n",
    "for key in tactile_keys:\n",
    "    tactile_data = npz_data[key]\n",
    "    print(f'{key} shape: {tactile_data.shape}')"
   ]
  },
  {
   "cell_type": "code",
   "execution_count": null,
   "id": "514cb1eb",
   "metadata": {},
   "outputs": [],
   "source": []
  }
 ],
 "metadata": {
  "kernelspec": {
   "display_name": "jyteleop",
   "language": "python",
   "name": "python3"
  },
  "language_info": {
   "codemirror_mode": {
    "name": "ipython",
    "version": 3
   },
   "file_extension": ".py",
   "mimetype": "text/x-python",
   "name": "python",
   "nbconvert_exporter": "python",
   "pygments_lexer": "ipython3",
   "version": "3.10.18"
  }
 },
 "nbformat": 4,
 "nbformat_minor": 5
}
